{
 "cells": [
  {
   "cell_type": "code",
   "execution_count": null,
   "metadata": {},
   "outputs": [],
   "source": [
    "import pandas as pd\n",
    "import re"
   ]
  },
  {
   "attachments": {},
   "cell_type": "markdown",
   "metadata": {},
   "source": [
    "Data source : Data.ai - Mobile Games Statistics scrapped by converting in PDF and transforming the PDF to excel."
   ]
  },
  {
   "cell_type": "code",
   "execution_count": null,
   "metadata": {},
   "outputs": [],
   "source": [
    "def add_publisher_into_df(df):\n",
    "    # Load the company list data into a DataFrame\n",
    "    df_companies = pd.read_excel('XLS/Companies_List.xlsx')\n",
    "\n",
    "    # Extract the 'Company' column into a set\n",
    "    companies = set(df_companies['Company'])\n",
    "    # Create the new 'Company' column\n",
    "    df['Company'] = ''\n",
    "\n",
    "    # Iterate through the companies\n",
    "    for string in companies:\n",
    "        # Find the index positions where the string matches at the end of 'Unified App'\n",
    "        match_indices = df['Unified App'].str.endswith(string, na=False)\n",
    "        # Update 'Company' column with matching strings from 'Unified App'\n",
    "        df.loc[match_indices, 'Company'] = string\n",
    "        # Remove the string from the end of 'Unified App'\n",
    "        df['Unified App'] = df['Unified App'].str.replace(f'{string}$', '', flags=re.IGNORECASE).str.strip()\n",
    "\n",
    "    return df"
   ]
  },
  {
   "cell_type": "code",
   "execution_count": null,
   "metadata": {},
   "outputs": [],
   "source": [
    "#Creating year and month columns"
   ]
  },
  {
   "cell_type": "code",
   "execution_count": null,
   "metadata": {},
   "outputs": [],
   "source": [
    "#List of DataSources\n",
    "date_id = [\"2307\", \"2306\", \"2305\", \"2304\", \"2303\", \"2302\", \"2301\", \"2212\", \"2211\", \"2210\", \"2209\", \"2208\"]\n",
    "\n",
    "for date in date_id:\n",
    "    # 1 - Importing all Data from excel sheets\n",
    "    data = pd.read_excel(f'XLS/Data_{date}.xlsx')\n",
    "\n",
    "    # 2 - Removing all fully NaN Rows and Columns\n",
    "    # Find rows containing only null values & Drop the null rows\n",
    "    try:\n",
    "        null_rows = data.rows[data.isnull().all()]\n",
    "        df = data.drop(columns=null_columns)\n",
    "    except:\n",
    "        pass\n",
    "    # Find columns containing only null values & Drop the null columns\n",
    "    try:\n",
    "        null_columns = data.columns[data.isnull().all()]\n",
    "        df = data.drop(columns=null_columns)\n",
    "    except:\n",
    "        pass\n",
    "\n",
    "    # 3 - Remove unwanted character and reasign corresponding value types\n",
    "    # Specify the columns to clean\n",
    "    columns_to_clean = ['Downloads', 'Cumulative Downloads', 'Revenue', 'Cumulative Revenue',\n",
    "                        'Paid Downloads', 'Organic Downloads', 'Active Users', 'Install Base', 'Total Time']\n",
    "    # Remove unwanted characters and convert numbers to their numerical equivalent\n",
    "    for column in columns_to_clean:\n",
    "        try:\n",
    "            df[column] = df[column].str.replace(r'[\\$]', '', regex=True)  # Remove '$' and '.'\n",
    "        except:\n",
    "            pass\n",
    "        try:\n",
    "            df[column] = df[column].str.replace(r'(\\d+)([kK])', r'\\g<1>e3', regex=True)  # Convert 'k' to '*1e3'\n",
    "        except:\n",
    "            pass\n",
    "        try:\n",
    "            df[column] = df[column].str.replace(r'(\\d+)([mM])', r'\\g<1>e6', regex=True)  # Convert 'm' to '*1e6'\n",
    "        except:\n",
    "            pass\n",
    "        try:\n",
    "            df[column] = df[column].str.replace(r'(\\d+)([bB])', r'\\g<1>e9', regex=True)  # Convert 'b' to '*1e9'\n",
    "        except:\n",
    "            pass\n",
    "        try:\n",
    "            df[column] = pd.to_numeric(df[column])  # Convert the column to numeric data type\n",
    "        except:\n",
    "            pass\n",
    "\n",
    "    # 4 - Retrieving the Game's Genre in the 'Classification' Column and creating a column 'Genre'\n",
    "    # Remove leading line break from 'Classification' and extract words after it into 'Genre'\n",
    "    try:\n",
    "        df['Genre'] = df['Classification'].str.split('\\n').str[-1].str.strip()\n",
    "        df['Classification'] = df['Classification'].str.replace('\\n.*', '', regex=True)\n",
    "    except:\n",
    "        pass\n",
    "\n",
    "    # 5 - Retrieving the Publisher of the Games and adding to a new column 'Publisher'\n",
    "    #extract_publisher(df)\n",
    "    add_publisher_into_df(df)\n",
    "\n",
    "    # Save the resulting DataFrame to a new Excel file\n",
    "    df.to_excel(f'Data_{date}.xlsx', index=False)\n",
    "    df\n"
   ]
  },
  {
   "cell_type": "code",
   "execution_count": 11,
   "metadata": {},
   "outputs": [
    {
     "name": "stdout",
     "output_type": "stream",
     "text": [
      "<class 'pandas.core.frame.DataFrame'>\n",
      "RangeIndex: 100 entries, 0 to 99\n",
      "Data columns (total 27 columns):\n",
      " #   Column                  Non-Null Count  Dtype  \n",
      "---  ------                  --------------  -----  \n",
      " 0   Unnamed: 0              100 non-null    int64  \n",
      " 1   Unified App             100 non-null    object \n",
      " 2   Classification          100 non-null    object \n",
      " 3   Downloads               99 non-null     float64\n",
      " 4   Cumulative Downloads    100 non-null    int64  \n",
      " 5   Revenue                 100 non-null    int64  \n",
      " 6   Cumulative Revenue      100 non-null    int64  \n",
      " 7   RPD\n",
      "As of Sep 30, 2022  100 non-null    object \n",
      " 8   Paid Downloads          84 non-null     float64\n",
      " 9   Organic Downloads       96 non-null     float64\n",
      " 10   Paid Downloads         100 non-null    float64\n",
      " 11  Organic Downloads.1     100 non-null    float64\n",
      " 12  Usage Penetration       100 non-null    object \n",
      " 13  Active Users            100 non-null    int64  \n",
      " 14  Install Penetration     100 non-null    float64\n",
      " 15  Install Base            100 non-null    int64  \n",
      " 16  Open Rate               100 non-null    float64\n",
      " 17  Avg Sessions / User     98 non-null     float64\n",
      " 18  Avg Session Duration    98 non-null     object \n",
      " 19  Avg Time / User         98 non-null     object \n",
      " 20  Total Time              98 non-null     float64\n",
      " 21  Avg Active Days         94 non-null     float64\n",
      " 22   Active Days            94 non-null     float64\n",
      " 23  Genre                   100 non-null    object \n",
      " 24  Company                 100 non-null    object \n",
      " 25  Year                    100 non-null    int64  \n",
      " 26  Month                   100 non-null    int64  \n",
      "dtypes: float64(11), int64(8), object(8)\n",
      "memory usage: 21.2+ KB\n"
     ]
    }
   ],
   "source": [
    "data_view = pd.read_excel('Data_GamesCompanies/Data_2209.xlsx')\n",
    "data_view.info()"
   ]
  },
  {
   "cell_type": "code",
   "execution_count": null,
   "metadata": {},
   "outputs": [],
   "source": [
    "# Check for null values in the 'Unified App' column\n",
    "null_values = df['Unified App'].isnull().sum()\n",
    "\n",
    "# Print the number of null values\n",
    "print(\"Number of null values in 'Unified App' column:\", null_values)"
   ]
  },
  {
   "cell_type": "code",
   "execution_count": null,
   "metadata": {},
   "outputs": [],
   "source": [
    "# Check for null values in the 'Unified App' column\n",
    "null_values = df['Company'].isnull().sum()\n",
    "\n",
    "# Print the number of null values\n",
    "print(\"Number of null values in 'Company' column:\", null_values)"
   ]
  },
  {
   "attachments": {},
   "cell_type": "markdown",
   "metadata": {},
   "source": [
    "### Used to find all publisher missing from previous filtering"
   ]
  },
  {
   "cell_type": "code",
   "execution_count": null,
   "metadata": {},
   "outputs": [],
   "source": [
    "# List of DataSources\n",
    "date_id = [\"2307\", \"2306\", \"2305\", \"2304\", \"2303\", \"2302\", \"2301\", \"2212\", \"2211\", \"2210\", \"2209\", \"2208\"]\n",
    "missing_companies = set()  # Set to store missing companies\n",
    "\n",
    "for date in date_id:\n",
    "    global missing_companies\n",
    "\n",
    "    # 1 - Importing all Cleaned Data from excel sheets\n",
    "    df = pd.read_excel(f'clean_data_{date}.xlsx')\n",
    "\n",
    "    # Load the company list data into a DataFrame\n",
    "    df_companies = pd.read_excel('XLS/games_company.xlsx')\n",
    "\n",
    "    # Extract the 'Company' column into a set\n",
    "    companies = set(df_companies['Company'])\n",
    "\n",
    "    for index, row in df.iterrows():\n",
    "        unified_app = row['Unified App']\n",
    "        company = row['Company']\n",
    "\n",
    "        # Check if the 'Company' value is NaN (empty)\n",
    "        if pd.isna(company):\n",
    "            missing_companies.add(unified_app)\n",
    "\n",
    "# Convert the set to a DataFrame\n",
    "missing_companies_df = pd.DataFrame({'Missing Companies': list(missing_companies)})\n",
    "\n",
    "# Save the DataFrame to an Excel file\n",
    "missing_companies_df.to_excel('missing_companies.xlsx', index=False)\n",
    "\n",
    "print(\"Missing companies :\", missing_companies)"
   ]
  },
  {
   "cell_type": "code",
   "execution_count": null,
   "metadata": {},
   "outputs": [],
   "source": [
    "# Read 'missing_companies.xlsx'\n",
    "missing_companies_df = pd.read_excel('XLS/missing_companies.xlsx')\n",
    "# Retrieve the 'Missing Companies' column and store it in 'updated_companies' set\n",
    "updated_companies = set(missing_companies_df['Company'])\n",
    "\n",
    "# Read 'games_companies.xlsx'\n",
    "games_companies_df = pd.read_excel('XLS/games_company.xlsx')\n",
    "# Retrieve the 'Company' column and update the 'updated_companies' set\n",
    "updated_companies.update(set(games_companies_df['Company']))\n",
    "\n",
    "# Create a DataFrame from the 'updated_companies' set\n",
    "company_list_df = pd.DataFrame({'Company': list(updated_companies)})\n",
    "\n",
    "# Save the DataFrame to 'Company_list.xlsx'\n",
    "company_list_df.to_excel('Company_list.xlsx', index=False)\n",
    "\n",
    "updated_companies"
   ]
  },
  {
   "cell_type": "code",
   "execution_count": null,
   "metadata": {},
   "outputs": [],
   "source": []
  }
 ],
 "metadata": {
  "kernelspec": {
   "display_name": "base",
   "language": "python",
   "name": "python3"
  },
  "language_info": {
   "codemirror_mode": {
    "name": "ipython",
    "version": 3
   },
   "file_extension": ".py",
   "mimetype": "text/x-python",
   "name": "python",
   "nbconvert_exporter": "python",
   "pygments_lexer": "ipython3",
   "version": "3.10.9"
  },
  "orig_nbformat": 4
 },
 "nbformat": 4,
 "nbformat_minor": 2
}
