{
 "cells": [
  {
   "attachments": {},
   "cell_type": "markdown",
   "metadata": {},
   "source": [
    "# Import Libraries + main VARIABLES"
   ]
  },
  {
   "cell_type": "code",
   "execution_count": 1,
   "metadata": {},
   "outputs": [],
   "source": [
    "import pandas as pd\n",
    "\n",
    "# List of the Date IDs of the Dataset\n",
    "date_id = [\"2307\", \"2306\", \"2305\", \"2304\", \"2303\", \"2302\", \"2301\", \"2212\", \"2211\", \"2210\", \"2209\", \"2208\"]"
   ]
  },
  {
   "attachments": {},
   "cell_type": "markdown",
   "metadata": {},
   "source": [
    "# Merging all Dataset into ONE big dataset"
   ]
  },
  {
   "cell_type": "code",
   "execution_count": 2,
   "metadata": {},
   "outputs": [
    {
     "name": "stdout",
     "output_type": "stream",
     "text": [
      "df shape:(100, 27), combined_df shape:(1200, 27)\n"
     ]
    }
   ],
   "source": [
    "# Initialize an empty DataFrame to store the combined data\n",
    "combined_df = pd.DataFrame()\n",
    "\n",
    "# Loop through the list of DataFrames and concatenate them\n",
    "for date in date_id:\n",
    "    # Importing all Cleaned Data from excel sheets\n",
    "    df = pd.read_excel(f'Data_{date}.xlsx')\n",
    "    # Concatenating each dataframe to combined_df\n",
    "    combined_df = pd.concat([combined_df, df], ignore_index=True)\n",
    "\n",
    "# Save the resulting DataFrame to a new Excel file\n",
    "combined_df.to_excel(f'Data_ALL.xlsx', index=False)\n",
    "\n",
    "# Just a quick check of the shape\n",
    "print(f'df shape:{df.shape}, combined_df shape:{combined_df.shape}')"
   ]
  }
 ],
 "metadata": {
  "kernelspec": {
   "display_name": "base",
   "language": "python",
   "name": "python3"
  },
  "language_info": {
   "codemirror_mode": {
    "name": "ipython",
    "version": 3
   },
   "file_extension": ".py",
   "mimetype": "text/x-python",
   "name": "python",
   "nbconvert_exporter": "python",
   "pygments_lexer": "ipython3",
   "version": "3.10.9"
  },
  "orig_nbformat": 4
 },
 "nbformat": 4,
 "nbformat_minor": 2
}
