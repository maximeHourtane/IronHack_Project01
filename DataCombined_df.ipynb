{
 "cells": [
  {
   "cell_type": "code",
   "execution_count": 1,
   "metadata": {},
   "outputs": [
    {
     "ename": "NameError",
     "evalue": "name 'data_id' is not defined",
     "output_type": "error",
     "traceback": [
      "\u001b[0;31m---------------------------------------------------------------------------\u001b[0m",
      "\u001b[0;31mNameError\u001b[0m                                 Traceback (most recent call last)",
      "Cell \u001b[0;32mIn[1], line 10\u001b[0m\n\u001b[1;32m      7\u001b[0m combined_df \u001b[39m=\u001b[39m pd\u001b[39m.\u001b[39mDataFrame()\n\u001b[1;32m      9\u001b[0m \u001b[39m# Loop through the list of DataFrames and concatenate them\u001b[39;00m\n\u001b[0;32m---> 10\u001b[0m \u001b[39mfor\u001b[39;00m data \u001b[39min\u001b[39;00m data_id:\n\u001b[1;32m     11\u001b[0m     combined_df \u001b[39m=\u001b[39m pd\u001b[39m.\u001b[39mconcat([combined_df, data], ignore_index\u001b[39m=\u001b[39m\u001b[39mTrue\u001b[39;00m)\n\u001b[1;32m     13\u001b[0m \u001b[39m# Save the DataFrame\u001b[39;00m\n",
      "\u001b[0;31mNameError\u001b[0m: name 'data_id' is not defined"
     ]
    }
   ],
   "source": [
    "import pandas as pd\n",
    "\n",
    "# Create your DataFrames (replace these with your actual DataFrames)\n",
    "date_id = [\"2307\", \"2306\", \"2305\", \"2304\", \"2303\", \"2302\", \"2301\", \"2212\", \"2211\", \"2210\", \"2209\", \"2208\"]\n",
    "\n",
    "# Initialize an empty DataFrame to store the combined data\n",
    "combined_df = pd.DataFrame()\n",
    "\n",
    "# Loop through the list of DataFrames and concatenate them\n",
    "for date in date_id:\n",
    "    # Importing all Cleaned Data from excel sheets\n",
    "    df = pd.read_excel(f'Data_GamesCompanies/Data_{date}.xlsx')\n",
    "    combined_df = pd.concat([combined_df, df], ignore_index=True)\n",
    "\n",
    "# Save the DataFrame\n",
    "combined_df.to_excel(f'Data_GamesCompanies/Data_ALL.xlsx', index=False)\n",
    "combined_df"
   ]
  }
 ],
 "metadata": {
  "kernelspec": {
   "display_name": "base",
   "language": "python",
   "name": "python3"
  },
  "language_info": {
   "codemirror_mode": {
    "name": "ipython",
    "version": 3
   },
   "file_extension": ".py",
   "mimetype": "text/x-python",
   "name": "python",
   "nbconvert_exporter": "python",
   "pygments_lexer": "ipython3",
   "version": "3.10.9"
  },
  "orig_nbformat": 4
 },
 "nbformat": 4,
 "nbformat_minor": 2
}
